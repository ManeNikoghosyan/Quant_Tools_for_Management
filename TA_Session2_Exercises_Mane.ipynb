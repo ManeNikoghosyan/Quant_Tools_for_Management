{
 "cells": [
  {
   "cell_type": "code",
   "execution_count": 31,
   "metadata": {},
   "outputs": [
    {
     "name": "stdout",
     "output_type": "stream",
     "text": [
      "['strawberry', 'apple', 'pear', 'apricot', 'banana']\n",
      "['apple', 'apricot', 'banana', 'pear', 'strawberry']\n",
      "p\n",
      "apple, sold out\n",
      "apricot, sold out\n",
      "banana, sold out\n",
      "pear, sold out\n",
      "strawberry, sold out\n"
     ]
    }
   ],
   "source": [
    "##EXERCISE 1\n",
    "\n",
    "## Write down a list of 3 fruits (except for banana)\n",
    "fruits=[\"strawberry\",\"apple\",\"pear\",\"apricot\"]\n",
    "\n",
    "## Add banana to the list\n",
    "fruits.append(\"banana\")\n",
    "print(fruits)\n",
    "\n",
    "## Put them in an alphabetical order\n",
    "fruits.sort()\n",
    "print(fruits)\n",
    "\n",
    "## See what is the 2nd letter of the 2nd fruit\n",
    "print(fruits[1][1])\n",
    "\n",
    "## Find which element banana is in the sequence\n",
    "\n",
    "## Make a sentence for each fruit indicating that it is currenlty sold out\n",
    "for i in fruits:\n",
    "    print (i + \", sold out\")"
   ]
  },
  {
   "cell_type": "code",
   "execution_count": 32,
   "metadata": {},
   "outputs": [
    {
     "name": "stdout",
     "output_type": "stream",
     "text": [
      "[1, 4, 9, 16, 25]\n",
      "[676, 729, 784, 841, 900]\n"
     ]
    }
   ],
   "source": [
    "## EXERCISE 2\n",
    "\n",
    "## Write a Python program to generate and print a list of the first 5 and last 5 elements, \n",
    "#where the values are square of the numbers between 1 and 30 (both included).\n",
    " \n",
    "list=[]\n",
    "for i in range(1,31):\n",
    "    list.append(i**2)\n",
    "print(list[:5])\n",
    "print(list[-5:])"
   ]
  },
  {
   "cell_type": "code",
   "execution_count": 33,
   "metadata": {},
   "outputs": [
    {
     "name": "stdout",
     "output_type": "stream",
     "text": [
      "b =8.0\n"
     ]
    }
   ],
   "source": [
    "## EXERCISE 3\n",
    "## Write a Python program to get the third side of right angled triangle from two given sides.\n",
    "\n",
    "def pythagoras(a,b,c):\n",
    "    if a==str('x'):\n",
    "        print('a =' + str((c**2 - b**2)**0.5))\n",
    "    elif b==str('x'):\n",
    "        print('b =' + str((c**2 - a**2)**0.5))\n",
    "    elif c==str('x'):\n",
    "        print('c =' + str((a**2 + b**2)**0.5))\n",
    "    else:\n",
    "        print(\"Values are available\")\n",
    "        \n",
    "pythagoras(6,\"x\",10)"
   ]
  },
  {
   "cell_type": "code",
   "execution_count": 34,
   "metadata": {},
   "outputs": [
    {
     "name": "stdout",
     "output_type": "stream",
     "text": [
      "[1515, 1525, 1535, 1545, 1555, 1565, 1585, 1595, 1605, 1615, 1625, 1635, 1655, 1665, 1675, 1685, 1695]\n"
     ]
    }
   ],
   "source": [
    "## EXERCISE 4\n",
    "## Write a program which will find all numbers between 1500 and 1700 (both included) \n",
    "## that do not end with 0, are divisible by 5 and not divisible by 7\n",
    "\n",
    "list_2=[]\n",
    "for i in range(1500,1701):\n",
    "    if i%10!=0 and i%5==0 and i%7!=0:\n",
    "        list_2.append(i)\n",
    "print(list_2)"
   ]
  },
  {
   "cell_type": "code",
   "execution_count": 35,
   "metadata": {},
   "outputs": [
    {
     "name": "stdout",
     "output_type": "stream",
     "text": [
      "0\n",
      "1\n",
      "2\n",
      "3\n",
      "4\n"
     ]
    }
   ],
   "source": [
    "## EXERCISE 5\n",
    "## Print all non negative numbers less than 5 using while loop\n",
    "\n",
    "i=0\n",
    "while i<5:\n",
    "    print(i)\n",
    "    i=i+1"
   ]
  },
  {
   "cell_type": "code",
   "execution_count": 36,
   "metadata": {},
   "outputs": [
    {
     "name": "stdout",
     "output_type": "stream",
     "text": [
      "9 * 1 = 9\n",
      "9 * 2 = 18\n",
      "9 * 3 = 27\n",
      "9 * 4 = 36\n",
      "9 * 5 = 45\n",
      "9 * 6 = 54\n",
      "9 * 7 = 63\n",
      "9 * 8 = 72\n",
      "9 * 9 = 81\n"
     ]
    }
   ],
   "source": [
    "## EXERCISE 6\n",
    "## Write a Python program to create the multiplication table (from 1 to 10) of a number.\n",
    "\n",
    "n=9\n",
    "\n",
    "for i in range(1,10):\n",
    "    print(n, '*', i, '=', i*n)\n"
   ]
  },
  {
   "cell_type": "code",
   "execution_count": 37,
   "metadata": {},
   "outputs": [
    {
     "name": "stdout",
     "output_type": "stream",
     "text": [
      "9 * 1 = 9\n",
      "9 * 2 = 18\n",
      "9 * 3 = 27\n",
      "9 * 4 = 36\n",
      "9 * 5 = 45\n",
      "9 * 6 = 54\n",
      "9 * 7 = 63\n",
      "9 * 8 = 72\n",
      "9 * 9 = 81\n"
     ]
    }
   ],
   "source": [
    "## EXERCISE 6 (with 'while loop')\n",
    "\n",
    "i=1\n",
    "x=9\n",
    "while i<10:\n",
    "    print(x ,'*', i, '=', i*x)\n",
    "    i=i+1"
   ]
  },
  {
   "cell_type": "code",
   "execution_count": 38,
   "metadata": {},
   "outputs": [
    {
     "name": "stdout",
     "output_type": "stream",
     "text": [
      "The sum is  1\n",
      "The sum is  3\n",
      "The sum is  6\n",
      "The sum is  10\n",
      "The sum is  15\n",
      "The sum is  21\n",
      "The sum is  28\n",
      "The sum is  36\n",
      "The sum is  45\n",
      "The sum is  55\n"
     ]
    }
   ],
   "source": [
    "## EXERCISE 7\n",
    "## Write a program to add natural numbers upto 10\n",
    "\n",
    "i=1\n",
    "sum=0\n",
    "n=10\n",
    "\n",
    "while i<=n:\n",
    "    sum=sum+i\n",
    "    i=i+1\n",
    "    print('The sum is ',sum)"
   ]
  },
  {
   "cell_type": "code",
   "execution_count": 39,
   "metadata": {},
   "outputs": [
    {
     "name": "stdout",
     "output_type": "stream",
     "text": [
      "The sum is  55\n"
     ]
    }
   ],
   "source": [
    "i=1\n",
    "sum=0\n",
    "n=10\n",
    "\n",
    "while i<=n:\n",
    "    sum=sum+i\n",
    "    i=i+1\n",
    "print('The sum is ',sum)\n",
    "\n",
    "## By changing the space of the function print(), we get different answers"
   ]
  },
  {
   "cell_type": "code",
   "execution_count": 40,
   "metadata": {},
   "outputs": [
    {
     "name": "stdout",
     "output_type": "stream",
     "text": [
      "The factorial is 5040\n"
     ]
    }
   ],
   "source": [
    "## EXERCISE 8\n",
    "## Write a program to find the factorial of 7 (using while loop)\n",
    "\n",
    "i=1\n",
    "n=7\n",
    "fac=1\n",
    "\n",
    "while i<=7:\n",
    "    fac=fac*i\n",
    "    i=i+1\n",
    "print('The factorial is',fac)"
   ]
  },
  {
   "cell_type": "code",
   "execution_count": 41,
   "metadata": {},
   "outputs": [
    {
     "name": "stdout",
     "output_type": "stream",
     "text": [
      "1 It's past\n",
      "2 It's past\n",
      "3 It's past\n",
      "4 It's past\n",
      "5 It's past\n",
      "6 It's past\n",
      "7 It's past\n",
      "8 It's past\n",
      "9 It's past\n",
      "10 It's past\n",
      "11 It's past\n",
      "12 It's past\n",
      "13 It's past\n",
      "14 It's past\n",
      "15 It's past\n",
      "16 It's past\n",
      "17 It's past\n",
      "18 It's past\n",
      "19 It's past\n",
      "20 It's past\n",
      "21 It's past\n",
      "22 It's present\n"
     ]
    }
   ],
   "source": [
    "## EXERCISE 9\n",
    "## Print the statement \"It's past\" when it is past, and \"It's present\" \n",
    "## when it is present - based on your age\n",
    "\n",
    "age=22\n",
    "i=1\n",
    "\n",
    "while i<age:\n",
    "    print(i,\"It's past\")   \n",
    "    i=i+1\n",
    "else:\n",
    "    print(i,\"It's present\")"
   ]
  },
  {
   "cell_type": "code",
   "execution_count": 42,
   "metadata": {},
   "outputs": [
    {
     "name": "stdout",
     "output_type": "stream",
     "text": [
      "56500 AMD\n"
     ]
    }
   ],
   "source": [
    "## EXERCISE 10\n",
    "##Define a converting function that will convert EUR to AMD - when we input \" X EUR\" \n",
    "## it will give the output converted amount and AMD\n",
    "\n",
    "rate=565\n",
    "def converter(eur):\n",
    "    print(str(int(eur.split(\" \")[0])*rate), \"AMD\")\n",
    "\n",
    "converter(\"100 EUR\")"
   ]
  },
  {
   "cell_type": "code",
   "execution_count": 43,
   "metadata": {},
   "outputs": [
    {
     "data": {
      "text/plain": [
       "['M', 'neNik', '9']"
      ]
     },
     "execution_count": 43,
     "metadata": {},
     "output_type": "execute_result"
    }
   ],
   "source": [
    "## split() function in use\n",
    "\n",
    "x='ManeNika9'\n",
    "x.split('a')"
   ]
  },
  {
   "cell_type": "code",
   "execution_count": 55,
   "metadata": {},
   "outputs": [
    {
     "data": {
      "text/html": [
       "<div>\n",
       "<style scoped>\n",
       "    .dataframe tbody tr th:only-of-type {\n",
       "        vertical-align: middle;\n",
       "    }\n",
       "\n",
       "    .dataframe tbody tr th {\n",
       "        vertical-align: top;\n",
       "    }\n",
       "\n",
       "    .dataframe thead th {\n",
       "        text-align: right;\n",
       "    }\n",
       "</style>\n",
       "<table border=\"1\" class=\"dataframe\">\n",
       "  <thead>\n",
       "    <tr style=\"text-align: right;\">\n",
       "      <th></th>\n",
       "      <th>Value</th>\n",
       "    </tr>\n",
       "    <tr>\n",
       "      <th>Date</th>\n",
       "      <th></th>\n",
       "    </tr>\n",
       "  </thead>\n",
       "  <tbody>\n",
       "    <tr>\n",
       "      <th>1992-12-31</th>\n",
       "      <td>3.45</td>\n",
       "    </tr>\n",
       "    <tr>\n",
       "      <th>1993-12-31</th>\n",
       "      <td>3.37</td>\n",
       "    </tr>\n",
       "    <tr>\n",
       "      <th>1994-12-31</th>\n",
       "      <td>3.29</td>\n",
       "    </tr>\n",
       "    <tr>\n",
       "      <th>1995-12-31</th>\n",
       "      <td>3.22</td>\n",
       "    </tr>\n",
       "    <tr>\n",
       "      <th>1996-12-31</th>\n",
       "      <td>3.17</td>\n",
       "    </tr>\n",
       "  </tbody>\n",
       "</table>\n",
       "</div>"
      ],
      "text/plain": [
       "            Value\n",
       "Date             \n",
       "1992-12-31   3.45\n",
       "1993-12-31   3.37\n",
       "1994-12-31   3.29\n",
       "1995-12-31   3.22\n",
       "1996-12-31   3.17"
      ]
     },
     "execution_count": 55,
     "metadata": {},
     "output_type": "execute_result"
    }
   ],
   "source": [
    "## EXERCISE 11\n",
    "## ODA/ARM_LP from QUANDL\n",
    "\n",
    "import quandl\n",
    "data=quandl.get(\"ODA/ARM_LP\")\n",
    "data.head()"
   ]
  },
  {
   "cell_type": "code",
   "execution_count": 56,
   "metadata": {},
   "outputs": [
    {
     "name": "stdout",
     "output_type": "stream",
     "text": [
      "            Value\n",
      "Date             \n",
      "1992-12-31  3.450\n",
      "1993-12-31  3.370\n",
      "1994-12-31  3.290\n",
      "1995-12-31  3.220\n",
      "1996-12-31  3.170\n",
      "1997-12-31  3.140\n",
      "1998-12-31  3.110\n",
      "1999-12-31  3.090\n",
      "2000-12-31  3.080\n",
      "2001-12-31  3.060\n",
      "2002-12-31  3.050\n",
      "2003-12-31  3.040\n",
      "2004-12-31  3.030\n",
      "2005-12-31  3.010\n",
      "2006-12-31  3.000\n",
      "2007-12-31  2.990\n",
      "2008-12-31  2.980\n",
      "2009-12-31  2.970\n",
      "2010-12-31  2.966\n",
      "2011-12-31  2.968\n",
      "2012-12-31  2.970\n",
      "2013-12-31  2.980\n",
      "2014-12-31  2.985\n",
      "2015-12-31  2.990\n",
      "2016-12-31  2.991\n",
      "2017-12-31  2.991\n",
      "2018-12-31  2.991\n",
      "2019-12-31  2.991\n",
      "2020-12-31  2.992\n",
      "2021-12-31  2.992\n",
      "2022-12-31  2.992\n"
     ]
    }
   ],
   "source": [
    "print(data)"
   ]
  },
  {
   "cell_type": "code",
   "execution_count": 46,
   "metadata": {},
   "outputs": [
    {
     "data": {
      "text/html": [
       "<div>\n",
       "<style scoped>\n",
       "    .dataframe tbody tr th:only-of-type {\n",
       "        vertical-align: middle;\n",
       "    }\n",
       "\n",
       "    .dataframe tbody tr th {\n",
       "        vertical-align: top;\n",
       "    }\n",
       "\n",
       "    .dataframe thead th {\n",
       "        text-align: right;\n",
       "    }\n",
       "</style>\n",
       "<table border=\"1\" class=\"dataframe\">\n",
       "  <thead>\n",
       "    <tr style=\"text-align: right;\">\n",
       "      <th></th>\n",
       "      <th>Value</th>\n",
       "    </tr>\n",
       "    <tr>\n",
       "      <th>Date</th>\n",
       "      <th></th>\n",
       "    </tr>\n",
       "  </thead>\n",
       "  <tbody>\n",
       "    <tr>\n",
       "      <th>2019-12-31</th>\n",
       "      <td>2.991</td>\n",
       "    </tr>\n",
       "  </tbody>\n",
       "</table>\n",
       "</div>"
      ],
      "text/plain": [
       "            Value\n",
       "Date             \n",
       "2019-12-31  2.991"
      ]
     },
     "execution_count": 46,
     "metadata": {},
     "output_type": "execute_result"
    }
   ],
   "source": [
    "data[\"2019\"]"
   ]
  },
  {
   "cell_type": "code",
   "execution_count": 47,
   "metadata": {},
   "outputs": [
    {
     "name": "stdout",
     "output_type": "stream",
     "text": [
      "<class 'pandas.core.frame.DataFrame'>\n",
      "DatetimeIndex: 31 entries, 1992-12-31 to 2022-12-31\n",
      "Data columns (total 1 columns):\n",
      "Value    31 non-null float64\n",
      "dtypes: float64(1)\n",
      "memory usage: 496.0 bytes\n"
     ]
    }
   ],
   "source": [
    "data.info()"
   ]
  },
  {
   "cell_type": "code",
   "execution_count": 58,
   "metadata": {},
   "outputs": [
    {
     "data": {
      "text/html": [
       "<div>\n",
       "<style scoped>\n",
       "    .dataframe tbody tr th:only-of-type {\n",
       "        vertical-align: middle;\n",
       "    }\n",
       "\n",
       "    .dataframe tbody tr th {\n",
       "        vertical-align: top;\n",
       "    }\n",
       "\n",
       "    .dataframe thead th {\n",
       "        text-align: right;\n",
       "    }\n",
       "</style>\n",
       "<table border=\"1\" class=\"dataframe\">\n",
       "  <thead>\n",
       "    <tr style=\"text-align: right;\">\n",
       "      <th></th>\n",
       "      <th>Value</th>\n",
       "    </tr>\n",
       "  </thead>\n",
       "  <tbody>\n",
       "    <tr>\n",
       "      <th>0</th>\n",
       "      <td>2.991</td>\n",
       "    </tr>\n",
       "  </tbody>\n",
       "</table>\n",
       "</div>"
      ],
      "text/plain": [
       "   Value\n",
       "0  2.991"
      ]
     },
     "execution_count": 58,
     "metadata": {},
     "output_type": "execute_result"
    }
   ],
   "source": [
    "data.mode()"
   ]
  },
  {
   "cell_type": "code",
   "execution_count": 60,
   "metadata": {},
   "outputs": [
    {
     "data": {
      "text/plain": [
       "Value    2.992\n",
       "dtype: float64"
      ]
     },
     "execution_count": 60,
     "metadata": {},
     "output_type": "execute_result"
    }
   ],
   "source": [
    "data.median()"
   ]
  },
  {
   "cell_type": "code",
   "execution_count": 62,
   "metadata": {},
   "outputs": [
    {
     "data": {
      "text/plain": [
       "Date\n",
       "2002-12-31    3.050\n",
       "2003-12-31    3.040\n",
       "2004-12-31    3.030\n",
       "2005-12-31    3.010\n",
       "2006-12-31    3.000\n",
       "2007-12-31    2.990\n",
       "2008-12-31    2.980\n",
       "2009-12-31    2.970\n",
       "2010-12-31    2.966\n",
       "2011-12-31    2.968\n",
       "Name: Value, dtype: float64"
      ]
     },
     "execution_count": 62,
     "metadata": {},
     "output_type": "execute_result"
    }
   ],
   "source": [
    "data.iloc[10:20,0]"
   ]
  },
  {
   "cell_type": "code",
   "execution_count": 50,
   "metadata": {},
   "outputs": [
    {
     "data": {
      "text/html": [
       "<div>\n",
       "<style scoped>\n",
       "    .dataframe tbody tr th:only-of-type {\n",
       "        vertical-align: middle;\n",
       "    }\n",
       "\n",
       "    .dataframe tbody tr th {\n",
       "        vertical-align: top;\n",
       "    }\n",
       "\n",
       "    .dataframe thead th {\n",
       "        text-align: right;\n",
       "    }\n",
       "</style>\n",
       "<table border=\"1\" class=\"dataframe\">\n",
       "  <thead>\n",
       "    <tr style=\"text-align: right;\">\n",
       "      <th></th>\n",
       "      <th>Value</th>\n",
       "    </tr>\n",
       "  </thead>\n",
       "  <tbody>\n",
       "    <tr>\n",
       "      <th>count</th>\n",
       "      <td>31.000000</td>\n",
       "    </tr>\n",
       "    <tr>\n",
       "      <th>mean</th>\n",
       "      <td>3.059645</td>\n",
       "    </tr>\n",
       "    <tr>\n",
       "      <th>std</th>\n",
       "      <td>0.122629</td>\n",
       "    </tr>\n",
       "    <tr>\n",
       "      <th>min</th>\n",
       "      <td>2.966000</td>\n",
       "    </tr>\n",
       "    <tr>\n",
       "      <th>25%</th>\n",
       "      <td>2.990000</td>\n",
       "    </tr>\n",
       "    <tr>\n",
       "      <th>50%</th>\n",
       "      <td>2.992000</td>\n",
       "    </tr>\n",
       "    <tr>\n",
       "      <th>75%</th>\n",
       "      <td>3.085000</td>\n",
       "    </tr>\n",
       "    <tr>\n",
       "      <th>max</th>\n",
       "      <td>3.450000</td>\n",
       "    </tr>\n",
       "  </tbody>\n",
       "</table>\n",
       "</div>"
      ],
      "text/plain": [
       "           Value\n",
       "count  31.000000\n",
       "mean    3.059645\n",
       "std     0.122629\n",
       "min     2.966000\n",
       "25%     2.990000\n",
       "50%     2.992000\n",
       "75%     3.085000\n",
       "max     3.450000"
      ]
     },
     "execution_count": 50,
     "metadata": {},
     "output_type": "execute_result"
    }
   ],
   "source": [
    "data.describe()"
   ]
  },
  {
   "cell_type": "code",
   "execution_count": 51,
   "metadata": {},
   "outputs": [
    {
     "name": "stdout",
     "output_type": "stream",
     "text": [
      "            Value  Percentage\n",
      "Date                         \n",
      "1992-12-31  3.450  100.000000\n",
      "1993-12-31  3.370   97.681159\n",
      "1994-12-31  3.290   95.362319\n",
      "1995-12-31  3.220   93.333333\n",
      "1996-12-31  3.170   91.884058\n",
      "1997-12-31  3.140   91.014493\n",
      "1998-12-31  3.110   90.144928\n",
      "1999-12-31  3.090   89.565217\n",
      "2000-12-31  3.080   89.275362\n",
      "2001-12-31  3.060   88.695652\n",
      "2002-12-31  3.050   88.405797\n",
      "2003-12-31  3.040   88.115942\n",
      "2004-12-31  3.030   87.826087\n",
      "2005-12-31  3.010   87.246377\n",
      "2006-12-31  3.000   86.956522\n",
      "2007-12-31  2.990   86.666667\n",
      "2008-12-31  2.980   86.376812\n",
      "2009-12-31  2.970   86.086957\n",
      "2010-12-31  2.966   85.971014\n",
      "2011-12-31  2.968   86.028986\n",
      "2012-12-31  2.970   86.086957\n",
      "2013-12-31  2.980   86.376812\n",
      "2014-12-31  2.985   86.521739\n",
      "2015-12-31  2.990   86.666667\n",
      "2016-12-31  2.991   86.695652\n",
      "2017-12-31  2.991   86.695652\n",
      "2018-12-31  2.991   86.695652\n",
      "2019-12-31  2.991   86.695652\n",
      "2020-12-31  2.992   86.724638\n",
      "2021-12-31  2.992   86.724638\n",
      "2022-12-31  2.992   86.724638\n"
     ]
    }
   ],
   "source": [
    "data['Percentage']=data[\"Value\"]/data['Value'].max()*100\n",
    "print(data)"
   ]
  },
  {
   "cell_type": "code",
   "execution_count": 52,
   "metadata": {},
   "outputs": [
    {
     "data": {
      "text/html": [
       "<div>\n",
       "<style scoped>\n",
       "    .dataframe tbody tr th:only-of-type {\n",
       "        vertical-align: middle;\n",
       "    }\n",
       "\n",
       "    .dataframe tbody tr th {\n",
       "        vertical-align: top;\n",
       "    }\n",
       "\n",
       "    .dataframe thead th {\n",
       "        text-align: right;\n",
       "    }\n",
       "</style>\n",
       "<table border=\"1\" class=\"dataframe\">\n",
       "  <thead>\n",
       "    <tr style=\"text-align: right;\">\n",
       "      <th></th>\n",
       "      <th>Value</th>\n",
       "    </tr>\n",
       "    <tr>\n",
       "      <th>Date</th>\n",
       "      <th></th>\n",
       "    </tr>\n",
       "  </thead>\n",
       "  <tbody>\n",
       "    <tr>\n",
       "      <th>1992-12-31</th>\n",
       "      <td>3.450</td>\n",
       "    </tr>\n",
       "    <tr>\n",
       "      <th>1993-12-31</th>\n",
       "      <td>3.370</td>\n",
       "    </tr>\n",
       "    <tr>\n",
       "      <th>1994-12-31</th>\n",
       "      <td>3.290</td>\n",
       "    </tr>\n",
       "    <tr>\n",
       "      <th>1995-12-31</th>\n",
       "      <td>3.220</td>\n",
       "    </tr>\n",
       "    <tr>\n",
       "      <th>1996-12-31</th>\n",
       "      <td>3.170</td>\n",
       "    </tr>\n",
       "    <tr>\n",
       "      <th>1997-12-31</th>\n",
       "      <td>3.140</td>\n",
       "    </tr>\n",
       "    <tr>\n",
       "      <th>1998-12-31</th>\n",
       "      <td>3.110</td>\n",
       "    </tr>\n",
       "    <tr>\n",
       "      <th>1999-12-31</th>\n",
       "      <td>3.090</td>\n",
       "    </tr>\n",
       "    <tr>\n",
       "      <th>2000-12-31</th>\n",
       "      <td>3.080</td>\n",
       "    </tr>\n",
       "    <tr>\n",
       "      <th>2001-12-31</th>\n",
       "      <td>3.060</td>\n",
       "    </tr>\n",
       "    <tr>\n",
       "      <th>2002-12-31</th>\n",
       "      <td>3.050</td>\n",
       "    </tr>\n",
       "    <tr>\n",
       "      <th>2003-12-31</th>\n",
       "      <td>3.040</td>\n",
       "    </tr>\n",
       "    <tr>\n",
       "      <th>2004-12-31</th>\n",
       "      <td>3.030</td>\n",
       "    </tr>\n",
       "    <tr>\n",
       "      <th>2005-12-31</th>\n",
       "      <td>3.010</td>\n",
       "    </tr>\n",
       "    <tr>\n",
       "      <th>2006-12-31</th>\n",
       "      <td>3.000</td>\n",
       "    </tr>\n",
       "    <tr>\n",
       "      <th>2007-12-31</th>\n",
       "      <td>2.990</td>\n",
       "    </tr>\n",
       "    <tr>\n",
       "      <th>2008-12-31</th>\n",
       "      <td>2.980</td>\n",
       "    </tr>\n",
       "    <tr>\n",
       "      <th>2009-12-31</th>\n",
       "      <td>2.970</td>\n",
       "    </tr>\n",
       "    <tr>\n",
       "      <th>2010-12-31</th>\n",
       "      <td>2.966</td>\n",
       "    </tr>\n",
       "    <tr>\n",
       "      <th>2011-12-31</th>\n",
       "      <td>2.968</td>\n",
       "    </tr>\n",
       "    <tr>\n",
       "      <th>2012-12-31</th>\n",
       "      <td>2.970</td>\n",
       "    </tr>\n",
       "    <tr>\n",
       "      <th>2013-12-31</th>\n",
       "      <td>2.980</td>\n",
       "    </tr>\n",
       "    <tr>\n",
       "      <th>2014-12-31</th>\n",
       "      <td>2.985</td>\n",
       "    </tr>\n",
       "    <tr>\n",
       "      <th>2015-12-31</th>\n",
       "      <td>2.990</td>\n",
       "    </tr>\n",
       "    <tr>\n",
       "      <th>2016-12-31</th>\n",
       "      <td>2.991</td>\n",
       "    </tr>\n",
       "    <tr>\n",
       "      <th>2017-12-31</th>\n",
       "      <td>2.991</td>\n",
       "    </tr>\n",
       "    <tr>\n",
       "      <th>2018-12-31</th>\n",
       "      <td>2.991</td>\n",
       "    </tr>\n",
       "    <tr>\n",
       "      <th>2019-12-31</th>\n",
       "      <td>2.991</td>\n",
       "    </tr>\n",
       "    <tr>\n",
       "      <th>2020-12-31</th>\n",
       "      <td>2.992</td>\n",
       "    </tr>\n",
       "    <tr>\n",
       "      <th>2021-12-31</th>\n",
       "      <td>2.992</td>\n",
       "    </tr>\n",
       "    <tr>\n",
       "      <th>2022-12-31</th>\n",
       "      <td>2.992</td>\n",
       "    </tr>\n",
       "  </tbody>\n",
       "</table>\n",
       "</div>"
      ],
      "text/plain": [
       "            Value\n",
       "Date             \n",
       "1992-12-31  3.450\n",
       "1993-12-31  3.370\n",
       "1994-12-31  3.290\n",
       "1995-12-31  3.220\n",
       "1996-12-31  3.170\n",
       "1997-12-31  3.140\n",
       "1998-12-31  3.110\n",
       "1999-12-31  3.090\n",
       "2000-12-31  3.080\n",
       "2001-12-31  3.060\n",
       "2002-12-31  3.050\n",
       "2003-12-31  3.040\n",
       "2004-12-31  3.030\n",
       "2005-12-31  3.010\n",
       "2006-12-31  3.000\n",
       "2007-12-31  2.990\n",
       "2008-12-31  2.980\n",
       "2009-12-31  2.970\n",
       "2010-12-31  2.966\n",
       "2011-12-31  2.968\n",
       "2012-12-31  2.970\n",
       "2013-12-31  2.980\n",
       "2014-12-31  2.985\n",
       "2015-12-31  2.990\n",
       "2016-12-31  2.991\n",
       "2017-12-31  2.991\n",
       "2018-12-31  2.991\n",
       "2019-12-31  2.991\n",
       "2020-12-31  2.992\n",
       "2021-12-31  2.992\n",
       "2022-12-31  2.992"
      ]
     },
     "execution_count": 52,
     "metadata": {},
     "output_type": "execute_result"
    }
   ],
   "source": [
    "data_new=data.drop([\"Percentage\"], axis=1)\n",
    "data_new"
   ]
  },
  {
   "cell_type": "code",
   "execution_count": 53,
   "metadata": {},
   "outputs": [],
   "source": [
    "import matplotlib.pyplot as plt"
   ]
  },
  {
   "cell_type": "code",
   "execution_count": 54,
   "metadata": {},
   "outputs": [
    {
     "data": {
      "text/plain": [
       "[<matplotlib.lines.Line2D at 0x10fcd0be0>]"
      ]
     },
     "execution_count": 54,
     "metadata": {},
     "output_type": "execute_result"
    },
    {
     "data": {
      "image/png": "[encoded data removed]",
      "text/plain": [
       "<Figure size 432x288 with 1 Axes>"
      ]
     },
     "metadata": {},
     "output_type": "display_data"
    }
   ],
   "source": [
    "plt.plot(data_new,'r o')"
   ]
  },
  {
   "cell_type": "code",
   "execution_count": null,
   "metadata": {},
   "outputs": [],
   "source": []
  }
 ],
 "metadata": {
  "kernelspec": {
   "display_name": "Python 3",
   "language": "python",
   "name": "python3"
  },
  "language_info": {
   "codemirror_mode": {
    "name": "ipython",
    "version": 3
   },
   "file_extension": ".py",
   "mimetype": "text/x-python",
   "name": "python",
   "nbconvert_exporter": "python",
   "pygments_lexer": "ipython3",
   "version": "3.6.5"
  }
 },
 "nbformat": 4,
 "nbformat_minor": 2
}
