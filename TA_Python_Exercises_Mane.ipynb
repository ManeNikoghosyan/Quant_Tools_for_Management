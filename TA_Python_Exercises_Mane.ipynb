{
 "cells": [
  {
   "cell_type": "markdown",
   "metadata": {},
   "source": [
    "# TA Session Exercises"
   ]
  },
  {
   "cell_type": "code",
   "execution_count": 5,
   "metadata": {},
   "outputs": [
    {
     "name": "stdout",
     "output_type": "stream",
     "text": [
      "2\n",
      "<type 'int'>\n"
     ]
    }
   ],
   "source": [
    "# Calculate the remainder of 17 when it is divided by 3\n",
    "print(17%3)\n",
    "# Create its variable and identify the type\n",
    "r=17%3\n",
    "print(type(r))"
   ]
  },
  {
   "cell_type": "markdown",
   "metadata": {},
   "source": [
    "-------"
   ]
  },
  {
   "cell_type": "code",
   "execution_count": 1,
   "metadata": {},
   "outputs": [
    {
     "name": "stdout",
     "output_type": "stream",
     "text": [
      "<class 'int'>\n",
      "<class 'str'>\n",
      "<class 'int'>\n",
      "Vratsakan\n",
      "Vratsakan 4, apt. 14\n",
      "Vratsakan 4, apt. 14*\n"
     ]
    },
    {
     "data": {
      "text/plain": [
       "20"
      ]
     },
     "execution_count": 1,
     "metadata": {},
     "output_type": "execute_result"
    }
   ],
   "source": [
    "# Write separate variables for your address details: street number, \n",
    "# street name, appartment number all in small letters\n",
    "\n",
    "street_number=4\n",
    "street_name=\"vratsakan\"\n",
    "appartment_number=14\n",
    "\n",
    "# Find out the types\n",
    "print(type(street_number))\n",
    "print(type(street_name))\n",
    "print(type(appartment_number))\n",
    "\n",
    "# Make the first letter of your street name capital and save\n",
    "street_name=street_name.capitalize()\n",
    "print(street_name)\n",
    "\n",
    "# Print your full address in the following format: \"72 Hanrapetutyan, apt. 72\"\n",
    "full_adress=street_name + \" \" + str(street_number) + \", apt. \" + str(appartment_number)\n",
    "print(full_adress)\n",
    "# Add * to the address (in the end)\n",
    "full_adress=full_adress+\"*\"\n",
    "print(full_adress) \n",
    "# Determine the order number of *\n",
    "full_adress.find(\"*\")"
   ]
  },
  {
   "cell_type": "markdown",
   "metadata": {},
   "source": [
    "-----"
   ]
  },
  {
   "cell_type": "code",
   "execution_count": 6,
   "metadata": {},
   "outputs": [
    {
     "name": "stdout",
     "output_type": "stream",
     "text": [
      "['Armenia', 'Italy', 'Russia', 'Spain']\n",
      "['Armenia', 'Italy', 'Russia', 'Spain', 'Germany']\n",
      "['Armenia', 'Germany', 'Italy', 'Russia', 'Spain']\n",
      "5\n",
      "Armenia\n",
      "l\n",
      "Armenia\n",
      "Germany\n",
      "Italy\n",
      "Russia\n",
      "Spain\n",
      "Armenia, Europe\n",
      "Germany, Europe\n",
      "Italy, Europe\n",
      "Russia, Europe\n",
      "Spain, Europe\n"
     ]
    }
   ],
   "source": [
    "# Write down a list of 4 countries \n",
    "countries=[\"Armenia\", \"Italy\", \"Spain\", \"Russia\"]\n",
    "# Put them in the alphabetical order\n",
    "countries.sort()\n",
    "print(countries)\n",
    "# Add 1 more country\n",
    "countries.append(\"Germany\")\n",
    "print(countries)\n",
    "# Again put in the alphabetical order\n",
    "countries.sort()\n",
    "print(countries)\n",
    "# See what the length of the list is\n",
    "print(len(countries))\n",
    "# Print out the very first country\n",
    "print(countries[0])\n",
    "# Print the 4rd letter of the middle country\n",
    "print(countries[2][3])\n",
    "# Print the countries vertically\n",
    "for i in countries:\n",
    "    print(i)\n",
    "# Add continent Europe for each country\n",
    "for y in countries:\n",
    "    print(y + \", Europe\")\n"
   ]
  },
  {
   "cell_type": "markdown",
   "metadata": {},
   "source": [
    "----"
   ]
  },
  {
   "cell_type": "code",
   "execution_count": 19,
   "metadata": {},
   "outputs": [
    {
     "name": "stdout",
     "output_type": "stream",
     "text": [
      "[100, 104, 112, 116, 124, 128, 136, 140, 148, 152, 160, 164, 172, 176, 184, 188, 196, 200]\n"
     ]
    }
   ],
   "source": [
    "# Write a program which will find all even numbers between 100 and 200 (both included) \n",
    "# that are divisible by 4 and not divisibly by 6\n",
    "list=[]\n",
    "for i in range(100,201,2):\n",
    "    if i%4==0 and i%6!=0:\n",
    "        list.append(i)\n",
    "print(list)"
   ]
  },
  {
   "cell_type": "markdown",
   "metadata": {},
   "source": [
    "-----------"
   ]
  },
  {
   "cell_type": "code",
   "execution_count": 9,
   "metadata": {},
   "outputs": [
    {
     "name": "stdout",
     "output_type": "stream",
     "text": [
      "The ticket is $10\n"
     ]
    }
   ],
   "source": [
    "# Write a program that will let you know that ticket is $15 for people aged 18+, \n",
    "#$10 for people aged 6 to 18 and if you are 5 or younger, you can't watch a football game.\n",
    "\n",
    "age=6\n",
    "\n",
    "if age>=18:\n",
    "    print(\"The ticket is $15\")\n",
    "elif 6<=age<18:\n",
    "    print(\"The ticket is $10\")\n",
    "else:\n",
    "    print(\"You can't watch a football game\")\n"
   ]
  },
  {
   "cell_type": "markdown",
   "metadata": {},
   "source": [
    "--------"
   ]
  },
  {
   "cell_type": "code",
   "execution_count": 10,
   "metadata": {},
   "outputs": [],
   "source": [
    "# Define a function to greet a person! \n",
    "\n",
    "def greet(x):\n",
    "    return \"Hello.\" + \" \" + x +  \". Good morning!\""
   ]
  },
  {
   "cell_type": "code",
   "execution_count": 11,
   "metadata": {},
   "outputs": [
    {
     "data": {
      "text/plain": [
       "'Hello. Mane. Good morning!'"
      ]
     },
     "execution_count": 11,
     "metadata": {},
     "output_type": "execute_result"
    }
   ],
   "source": [
    "greet(\"Mane\")"
   ]
  },
  {
   "cell_type": "markdown",
   "metadata": {},
   "source": [
    "-------"
   ]
  },
  {
   "cell_type": "code",
   "execution_count": 41,
   "metadata": {},
   "outputs": [],
   "source": [
    "# Define a function that will calculate the absolute value!\n",
    "\n",
    "def absvalue(n):\n",
    "    if n>=0:\n",
    "        return n\n",
    "    else:\n",
    "        return -n\n",
    "    "
   ]
  },
  {
   "cell_type": "code",
   "execution_count": 43,
   "metadata": {},
   "outputs": [
    {
     "data": {
      "text/plain": [
       "7"
      ]
     },
     "execution_count": 43,
     "metadata": {},
     "output_type": "execute_result"
    }
   ],
   "source": [
    "absvalue(-7)"
   ]
  },
  {
   "cell_type": "markdown",
   "metadata": {},
   "source": [
    "\n",
    "# Done!"
   ]
  }
 ],
 "metadata": {
  "kernelspec": {
   "display_name": "Python 3",
   "language": "python",
   "name": "python3"
  },
  "language_info": {
   "codemirror_mode": {
    "name": "ipython",
    "version": 3
   },
   "file_extension": ".py",
   "mimetype": "text/x-python",
   "name": "python",
   "nbconvert_exporter": "python",
   "pygments_lexer": "ipython3",
   "version": "3.6.5"
  }
 },
 "nbformat": 4,
 "nbformat_minor": 2
}
